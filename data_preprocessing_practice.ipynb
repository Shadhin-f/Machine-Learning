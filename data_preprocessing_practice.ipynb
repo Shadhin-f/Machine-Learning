{
  "nbformat": 4,
  "nbformat_minor": 0,
  "metadata": {
    "colab": {
      "provenance": [],
      "include_colab_link": true
    },
    "kernelspec": {
      "name": "python3",
      "display_name": "Python 3"
    }
  },
  "cells": [
    {
      "cell_type": "markdown",
      "metadata": {
        "id": "view-in-github",
        "colab_type": "text"
      },
      "source": [
        "<a href=\"https://colab.research.google.com/github/Shadhin-f/Machine-Learning/blob/main/data_preprocessing_practice.ipynb\" target=\"_parent\"><img src=\"https://colab.research.google.com/assets/colab-badge.svg\" alt=\"Open In Colab\"/></a>"
      ]
    },
    {
      "cell_type": "markdown",
      "metadata": {
        "id": "WOw8yMd1VlnD"
      },
      "source": [
        "# Data Preprocessing Template"
      ]
    },
    {
      "cell_type": "markdown",
      "metadata": {
        "id": "NvUGC8QQV6bV"
      },
      "source": [
        "## Importing the libraries"
      ]
    },
    {
      "cell_type": "code",
      "metadata": {
        "id": "wfFEXZC0WS-V"
      },
      "source": [
        "import numpy as np\n",
        "import matplotlib.pyplot as plt\n",
        "import pandas as pd"
      ],
      "execution_count": null,
      "outputs": []
    },
    {
      "cell_type": "markdown",
      "metadata": {
        "id": "fhYaZ-ENV_c5"
      },
      "source": [
        "## Importing the dataset"
      ]
    },
    {
      "cell_type": "code",
      "metadata": {
        "id": "aqHTg9bxWT_u"
      },
      "source": [
        "dataset = pd.read_csv('data.csv')\n",
        "x = dataset.iloc[:, :-1].values\n",
        "y = dataset.iloc[:, -1].values"
      ],
      "execution_count": null,
      "outputs": []
    },
    {
      "cell_type": "code",
      "source": [
        "print(x)"
      ],
      "metadata": {
        "colab": {
          "base_uri": "https://localhost:8080/"
        },
        "id": "qCK0uEMQxDYR",
        "outputId": "09de6c5c-5207-41c2-cfb4-fc75a630e02f"
      },
      "execution_count": null,
      "outputs": [
        {
          "output_type": "stream",
          "name": "stdout",
          "text": [
            "[['Italy' 'Male' 'Bachelor' 41.0 68000.0 720.0]\n",
            " ['Portugal' 'Female' 'Master' 33.0 49000.0 680.0]\n",
            " ['Netherlands' 'Male' 'PhD' 29.0 52000.0 700.0]\n",
            " ['Portugal' 'Female' 'Bachelor' 45.0 nan nan]\n",
            " ['Italy' 'Female' 'High School' 38.0 57000.0 750.0]\n",
            " ['Netherlands' 'Male' 'Bachelor' nan 61000.0 690.0]\n",
            " ['Portugal' 'Female' 'Master' 36.0 55000.0 730.0]\n",
            " ['Italy' 'Male' 'PhD' 44.0 72000.0 710.0]\n",
            " ['Netherlands' 'Female' 'Bachelor' 47.0 81000.0 nan]\n",
            " ['Portugal' 'Male' 'Master' 39.0 nan 700.0]]\n"
          ]
        }
      ]
    },
    {
      "cell_type": "code",
      "source": [
        "print(y)"
      ],
      "metadata": {
        "colab": {
          "base_uri": "https://localhost:8080/"
        },
        "id": "MSugaKrSxDjv",
        "outputId": "83cae5f5-07b9-4ae9-c352-3d16c2de4cbd"
      },
      "execution_count": null,
      "outputs": [
        {
          "output_type": "stream",
          "name": "stdout",
          "text": [
            "['Yes' 'No' 'Yes' 'No' 'Yes' 'No' 'Yes' 'No' 'Yes' 'Yes']\n"
          ]
        }
      ]
    },
    {
      "cell_type": "markdown",
      "source": [
        "# Missing data"
      ],
      "metadata": {
        "id": "GH336Rd6xP8a"
      }
    },
    {
      "cell_type": "code",
      "source": [
        "from sklearn.impute import SimpleImputer\n",
        "imputer = SimpleImputer(missing_values=np.nan, strategy='mean')\n",
        "imputer.fit(x[:,3:6])\n",
        "x[:,3:6] = imputer.transform(x[:,3:6])"
      ],
      "metadata": {
        "id": "oEuutcmXxbIf"
      },
      "execution_count": null,
      "outputs": []
    },
    {
      "cell_type": "code",
      "source": [
        "print(x)"
      ],
      "metadata": {
        "colab": {
          "base_uri": "https://localhost:8080/"
        },
        "id": "tY-oGmpjyYl4",
        "outputId": "39c9cf2e-d3f8-4f10-ade1-991c1fcd918a"
      },
      "execution_count": null,
      "outputs": [
        {
          "output_type": "stream",
          "name": "stdout",
          "text": [
            "[['Italy' 'Male' 'Bachelor' 41.0 68000.0 720.0]\n",
            " ['Portugal' 'Female' 'Master' 33.0 49000.0 680.0]\n",
            " ['Netherlands' 'Male' 'PhD' 29.0 52000.0 700.0]\n",
            " ['Portugal' 'Female' 'Bachelor' 45.0 61875.0 710.0]\n",
            " ['Italy' 'Female' 'High School' 38.0 57000.0 750.0]\n",
            " ['Netherlands' 'Male' 'Bachelor' 39.111111111111114 61000.0 690.0]\n",
            " ['Portugal' 'Female' 'Master' 36.0 55000.0 730.0]\n",
            " ['Italy' 'Male' 'PhD' 44.0 72000.0 710.0]\n",
            " ['Netherlands' 'Female' 'Bachelor' 47.0 81000.0 710.0]\n",
            " ['Portugal' 'Male' 'Master' 39.0 61875.0 700.0]]\n"
          ]
        }
      ]
    },
    {
      "cell_type": "markdown",
      "source": [
        "# Ecoding Categories"
      ],
      "metadata": {
        "id": "CkBuJMgczmdJ"
      }
    },
    {
      "cell_type": "markdown",
      "source": [
        "## HotEncoding"
      ],
      "metadata": {
        "id": "wme-soBPz17u"
      }
    },
    {
      "cell_type": "code",
      "source": [
        "from sklearn.compose import ColumnTransformer\n",
        "from sklearn.preprocessing import OneHotEncoder\n",
        "ct = ColumnTransformer(transformers=[('encoder', OneHotEncoder(), [0, 1, 2])], remainder='passthrough')\n",
        "x = np.array(ct.fit_transform(x))"
      ],
      "metadata": {
        "id": "RXEfdGfTz9N_"
      },
      "execution_count": null,
      "outputs": []
    },
    {
      "cell_type": "code",
      "source": [
        "print(x)"
      ],
      "metadata": {
        "colab": {
          "base_uri": "https://localhost:8080/"
        },
        "id": "10AheMPm0k4p",
        "outputId": "feafff0c-0df8-49ac-d2cd-7e3435b29f34"
      },
      "execution_count": null,
      "outputs": [
        {
          "output_type": "stream",
          "name": "stdout",
          "text": [
            "[[1.0 0.0 0.0 0.0 1.0 1.0 0.0 0.0 0.0 41.0 68000.0 720.0]\n",
            " [0.0 0.0 1.0 1.0 0.0 0.0 0.0 1.0 0.0 33.0 49000.0 680.0]\n",
            " [0.0 1.0 0.0 0.0 1.0 0.0 0.0 0.0 1.0 29.0 52000.0 700.0]\n",
            " [0.0 0.0 1.0 1.0 0.0 1.0 0.0 0.0 0.0 45.0 61875.0 710.0]\n",
            " [1.0 0.0 0.0 1.0 0.0 0.0 1.0 0.0 0.0 38.0 57000.0 750.0]\n",
            " [0.0 1.0 0.0 0.0 1.0 1.0 0.0 0.0 0.0 39.111111111111114 61000.0 690.0]\n",
            " [0.0 0.0 1.0 1.0 0.0 0.0 0.0 1.0 0.0 36.0 55000.0 730.0]\n",
            " [1.0 0.0 0.0 0.0 1.0 0.0 0.0 0.0 1.0 44.0 72000.0 710.0]\n",
            " [0.0 1.0 0.0 1.0 0.0 1.0 0.0 0.0 0.0 47.0 81000.0 710.0]\n",
            " [0.0 0.0 1.0 0.0 1.0 0.0 0.0 1.0 0.0 39.0 61875.0 700.0]]\n"
          ]
        }
      ]
    },
    {
      "cell_type": "markdown",
      "source": [
        "## LabelEncoding\n"
      ],
      "metadata": {
        "id": "QeHCnffdz56P"
      }
    },
    {
      "cell_type": "code",
      "source": [
        "from sklearn.preprocessing import LabelEncoder\n",
        "le = LabelEncoder()\n",
        "y = le.fit_transform(y)"
      ],
      "metadata": {
        "id": "ZzKAnvio1A0f"
      },
      "execution_count": null,
      "outputs": []
    },
    {
      "cell_type": "code",
      "source": [
        "print(y)"
      ],
      "metadata": {
        "colab": {
          "base_uri": "https://localhost:8080/"
        },
        "id": "MW0GWXR-2r3n",
        "outputId": "a52f61a2-2cd2-48c9-e870-4ce1b2ac0291"
      },
      "execution_count": null,
      "outputs": [
        {
          "output_type": "stream",
          "name": "stdout",
          "text": [
            "[1 0 1 0 1 0 1 0 1 1]\n"
          ]
        }
      ]
    },
    {
      "cell_type": "markdown",
      "metadata": {
        "id": "3abSxRqvWEIB"
      },
      "source": [
        "## Splitting the dataset into the Training set and Test set"
      ]
    },
    {
      "cell_type": "code",
      "metadata": {
        "id": "hm48sif-WWsh"
      },
      "source": [
        "from sklearn.model_selection import train_test_split\n",
        "x_train, x_test, y_train, y_test = train_test_split(x, y, test_size = 0.2, random_state = 1)"
      ],
      "execution_count": null,
      "outputs": []
    },
    {
      "cell_type": "code",
      "source": [
        "print(x_train)"
      ],
      "metadata": {
        "colab": {
          "base_uri": "https://localhost:8080/"
        },
        "id": "NiP-Oa9C4OwP",
        "outputId": "32ed8eff-b4d7-4396-b906-8f709152e486"
      },
      "execution_count": null,
      "outputs": [
        {
          "output_type": "stream",
          "name": "stdout",
          "text": [
            "[[0.0 0.0 1.0 1.0 0.0 0.0 0.0 1.0 0.0 36.0 55000.0 730.0]\n",
            " [1.0 0.0 0.0 1.0 0.0 0.0 1.0 0.0 0.0 38.0 57000.0 750.0]\n",
            " [1.0 0.0 0.0 0.0 1.0 1.0 0.0 0.0 0.0 41.0 68000.0 720.0]\n",
            " [0.0 0.0 1.0 1.0 0.0 1.0 0.0 0.0 0.0 45.0 61875.0 710.0]\n",
            " [0.0 0.0 1.0 1.0 0.0 0.0 0.0 1.0 0.0 33.0 49000.0 680.0]\n",
            " [1.0 0.0 0.0 0.0 1.0 0.0 0.0 0.0 1.0 44.0 72000.0 710.0]\n",
            " [0.0 1.0 0.0 1.0 0.0 1.0 0.0 0.0 0.0 47.0 81000.0 710.0]\n",
            " [0.0 1.0 0.0 0.0 1.0 1.0 0.0 0.0 0.0 39.111111111111114 61000.0 690.0]]\n"
          ]
        }
      ]
    },
    {
      "cell_type": "code",
      "source": [
        "print(x_test)"
      ],
      "metadata": {
        "colab": {
          "base_uri": "https://localhost:8080/"
        },
        "id": "s68CvPTf4Xsf",
        "outputId": "c6edf877-5c61-4fc6-c172-1810b08cae60"
      },
      "execution_count": null,
      "outputs": [
        {
          "output_type": "stream",
          "name": "stdout",
          "text": [
            "[[0.0 1.0 0.0 0.0 1.0 0.0 0.0 0.0 1.0 29.0 52000.0 700.0]\n",
            " [0.0 0.0 1.0 0.0 1.0 0.0 0.0 1.0 0.0 39.0 61875.0 700.0]]\n"
          ]
        }
      ]
    },
    {
      "cell_type": "code",
      "source": [
        "print(y_train)"
      ],
      "metadata": {
        "colab": {
          "base_uri": "https://localhost:8080/"
        },
        "id": "NViEGs314eRm",
        "outputId": "e6e4e0b4-eb06-4c55-caa8-eb7213c0bda6"
      },
      "execution_count": null,
      "outputs": [
        {
          "output_type": "stream",
          "name": "stdout",
          "text": [
            "[1 1 1 0 0 0 1 0]\n"
          ]
        }
      ]
    },
    {
      "cell_type": "code",
      "source": [
        "print(y_test)"
      ],
      "metadata": {
        "colab": {
          "base_uri": "https://localhost:8080/"
        },
        "id": "Fe7vRIYj4iMm",
        "outputId": "819cb077-d550-48cb-da73-c09ac3e2aa9e"
      },
      "execution_count": null,
      "outputs": [
        {
          "output_type": "stream",
          "name": "stdout",
          "text": [
            "[1 1]\n"
          ]
        }
      ]
    },
    {
      "cell_type": "markdown",
      "source": [
        "# Feature Scaling"
      ],
      "metadata": {
        "id": "jT2dARc_4yyf"
      }
    },
    {
      "cell_type": "code",
      "source": [
        "from sklearn.preprocessing import StandardScaler\n",
        "sc = StandardScaler()\n",
        "x_train[:, 9:] = sc.fit_transform(x_train[:, 9:])\n",
        "x_test[:, 9:] = sc.transform(x_test[:, 9:])"
      ],
      "metadata": {
        "id": "Tlv-ghm_49We"
      },
      "execution_count": null,
      "outputs": []
    },
    {
      "cell_type": "code",
      "source": [
        "print(x_train)"
      ],
      "metadata": {
        "colab": {
          "base_uri": "https://localhost:8080/"
        },
        "id": "3-qNl3PJ5kIY",
        "outputId": "7552d58b-7b63-4b96-e126-523656b21cc0"
      },
      "execution_count": null,
      "outputs": [
        {
          "output_type": "stream",
          "name": "stdout",
          "text": [
            "[[0.0 0.0 1.0 1.0 0.0 0.0 0.0 1.0 0.0 -0.9826752396615952\n",
            "  -0.8482487309872695 0.8551861104941366]\n",
            " [1.0 0.0 0.0 1.0 0.0 0.0 1.0 0.0 0.0 -0.5348738646259316\n",
            "  -0.6390467318227792 1.8325416653445785]\n",
            " [1.0 0.0 0.0 0.0 1.0 1.0 0.0 0.0 0.0 0.1368281979275638\n",
            "  0.5115642635819179 0.3665083330689157]\n",
            " [0.0 0.0 1.0 1.0 0.0 1.0 0.0 0.0 0.0 1.032430947998891\n",
            "  -0.12911685885933394 -0.12216944435630527]\n",
            " [0.0 0.0 1.0 1.0 0.0 0.0 0.0 1.0 0.0 -1.6543773022150907\n",
            "  -1.4758547284807406 -1.588202776631968]\n",
            " [1.0 0.0 0.0 0.0 1.0 0.0 0.0 0.0 1.0 0.8085302604810592\n",
            "  0.9299682619108985 -0.12216944435630527]\n",
            " [0.0 1.0 0.0 1.0 0.0 1.0 0.0 0.0 0.0 1.4802323230345544\n",
            "  1.8713772581511052 -0.12216944435630527]\n",
            " [0.0 1.0 0.0 0.0 1.0 1.0 0.0 0.0 0.0 -0.2860953229394511\n",
            "  -0.22064273349379845 -1.099524999206747]]\n"
          ]
        }
      ]
    },
    {
      "cell_type": "code",
      "source": [
        "print(x_test)"
      ],
      "metadata": {
        "colab": {
          "base_uri": "https://localhost:8080/"
        },
        "id": "5D7YgLyi5mqW",
        "outputId": "00405d02-1703-4bef-b152-68a7a14d1a78"
      },
      "execution_count": null,
      "outputs": [
        {
          "output_type": "stream",
          "name": "stdout",
          "text": [
            "[[0.0 1.0 0.0 0.0 1.0 0.0 0.0 0.0 1.0 29.0 52000.00000000001 700.0]\n",
            " [0.0 0.0 1.0 0.0 1.0 0.0 0.0 1.0 0.0 39.0 61875.00000000001 700.0]]\n"
          ]
        }
      ]
    }
  ]
}