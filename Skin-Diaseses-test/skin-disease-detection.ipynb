{
 "cells": [
  {
   "cell_type": "markdown",
   "id": "94781afd",
   "metadata": {},
   "source": [
    " # Skin Diasese detection test"
   ]
  },
  {
   "cell_type": "code",
   "execution_count": 1,
   "id": "0863a021",
   "metadata": {},
   "outputs": [],
   "source": [
    "import os\n",
    "os.environ[\"KMP_DUPLICATE_LIB_OK\"] = \"TRUE\"\n",
    "import tensorflow as tf\n",
    "from tensorflow.keras.preprocessing.image import ImageDataGenerator"
   ]
  },
  {
   "cell_type": "code",
   "execution_count": 2,
   "id": "4063ede9",
   "metadata": {},
   "outputs": [
    {
     "data": {
      "text/plain": [
       "'2.10.0'"
      ]
     },
     "execution_count": 2,
     "metadata": {},
     "output_type": "execute_result"
    }
   ],
   "source": [
    "tf.__version__"
   ]
  },
  {
   "cell_type": "markdown",
   "id": "c7c567a5",
   "metadata": {},
   "source": [
    "## Processing the training set"
   ]
  },
  {
   "cell_type": "code",
   "execution_count": 3,
   "id": "209ef7e4",
   "metadata": {},
   "outputs": [
    {
     "name": "stdout",
     "output_type": "stream",
     "text": [
      "Found 4107 images belonging to 9 classes.\n"
     ]
    }
   ],
   "source": [
    "train_datagen = ImageDataGenerator(\n",
    "    rescale=1./255,\n",
    "    shear_range=0.2,\n",
    "    zoom_range=0.2,\n",
    "    horizontal_flip=True\n",
    ")\n",
    "training_set = train_datagen.flow_from_directory(\n",
    "    'Skin Cancer Dataset/training_set',\n",
    "    target_size=(64, 64),\n",
    "    batch_size=16,\n",
    "    class_mode='categorical',\n",
    ")"
   ]
  },
  {
   "cell_type": "markdown",
   "id": "6b078291",
   "metadata": {},
   "source": [
    "## Preprocessing the test set"
   ]
  },
  {
   "cell_type": "code",
   "execution_count": 4,
   "id": "aee5bf92",
   "metadata": {},
   "outputs": [
    {
     "name": "stdout",
     "output_type": "stream",
     "text": [
      "Found 1555 images belonging to 9 classes.\n"
     ]
    }
   ],
   "source": [
    "test_datagen = ImageDataGenerator(rescale=1./255)\n",
    "test_set = test_datagen.flow_from_directory(\n",
    "    'Skin Cancer Dataset/test_set',\n",
    "    target_size=(64, 64),\n",
    "    batch_size=16,\n",
    "    class_mode='categorical',\n",
    ")"
   ]
  },
  {
   "cell_type": "markdown",
   "id": "053fb528",
   "metadata": {},
   "source": [
    "## Building the CNN"
   ]
  },
  {
   "cell_type": "code",
   "execution_count": 5,
   "id": "51da8b41",
   "metadata": {},
   "outputs": [],
   "source": [
    "cnn = tf.keras.models.Sequential()"
   ]
  },
  {
   "cell_type": "code",
   "execution_count": 6,
   "id": "9922d385",
   "metadata": {},
   "outputs": [],
   "source": [
    "cnn.add(tf.keras.layers.Conv2D(\n",
    "    filters=32,\n",
    "    kernel_size=3,\n",
    "    activation='relu',\n",
    "    input_shape=(64, 64, 3)\n",
    "))"
   ]
  },
  {
   "cell_type": "code",
   "execution_count": 7,
   "id": "1cf84eaa",
   "metadata": {},
   "outputs": [],
   "source": [
    "cnn.add(tf.keras.layers.MaxPool2D(\n",
    "    pool_size=2,\n",
    "    strides=2\n",
    "))"
   ]
  },
  {
   "cell_type": "code",
   "execution_count": 8,
   "id": "ee70a466",
   "metadata": {},
   "outputs": [],
   "source": [
    "cnn.add(tf.keras.layers.Conv2D(\n",
    "    filters=32,\n",
    "    kernel_size=3,\n",
    "    activation='relu'\n",
    "))\n",
    "cnn.add(tf.keras.layers.MaxPool2D(\n",
    "    pool_size=2,\n",
    "    strides=2\n",
    "))"
   ]
  },
  {
   "cell_type": "code",
   "execution_count": 9,
   "id": "f73695b1",
   "metadata": {},
   "outputs": [],
   "source": [
    "cnn.add(tf.keras.layers.Flatten())"
   ]
  },
  {
   "cell_type": "code",
   "execution_count": 10,
   "id": "6f6b1dfc",
   "metadata": {},
   "outputs": [],
   "source": [
    "cnn.add(tf.keras.layers.Dense(units=128, activation='relu'))"
   ]
  },
  {
   "cell_type": "code",
   "execution_count": 11,
   "id": "42ce3bf7",
   "metadata": {},
   "outputs": [],
   "source": [
    "cnn.add(tf.keras.layers.Dense(units=9, activation='softmax'))"
   ]
  },
  {
   "cell_type": "code",
   "execution_count": 12,
   "id": "e0155562",
   "metadata": {},
   "outputs": [],
   "source": [
    "cnn.compile(optimizer='adam', loss = 'categorical_crossentropy', metrics=['accuracy'])"
   ]
  },
  {
   "cell_type": "code",
   "execution_count": 13,
   "id": "a3044492",
   "metadata": {},
   "outputs": [
    {
     "name": "stdout",
     "output_type": "stream",
     "text": [
      "Epoch 1/10\n",
      "257/257 [==============================] - 215s 837ms/step - loss: 2.0606 - accuracy: 0.2204 - val_loss: 1.9942 - val_accuracy: 0.2302\n",
      "Epoch 2/10\n",
      "257/257 [==============================] - 158s 615ms/step - loss: 1.8441 - accuracy: 0.3287 - val_loss: 1.6813 - val_accuracy: 0.3916\n",
      "Epoch 3/10\n",
      "257/257 [==============================] - 156s 609ms/step - loss: 1.7125 - accuracy: 0.3845 - val_loss: 1.5728 - val_accuracy: 0.4296\n",
      "Epoch 4/10\n",
      "257/257 [==============================] - 159s 621ms/step - loss: 1.5953 - accuracy: 0.4120 - val_loss: 1.6094 - val_accuracy: 0.4180\n",
      "Epoch 5/10\n",
      "257/257 [==============================] - 179s 699ms/step - loss: 1.5216 - accuracy: 0.4502 - val_loss: 1.4748 - val_accuracy: 0.4534\n",
      "Epoch 6/10\n",
      "257/257 [==============================] - 192s 746ms/step - loss: 1.4738 - accuracy: 0.4617 - val_loss: 1.3770 - val_accuracy: 0.4881\n",
      "Epoch 7/10\n",
      "257/257 [==============================] - 201s 782ms/step - loss: 1.4248 - accuracy: 0.4809 - val_loss: 1.2934 - val_accuracy: 0.5254\n",
      "Epoch 8/10\n",
      "257/257 [==============================] - 220s 859ms/step - loss: 1.3850 - accuracy: 0.4948 - val_loss: 1.3094 - val_accuracy: 0.5209\n",
      "Epoch 9/10\n",
      "257/257 [==============================] - 199s 774ms/step - loss: 1.3435 - accuracy: 0.5138 - val_loss: 1.2476 - val_accuracy: 0.5486\n",
      "Epoch 10/10\n",
      "257/257 [==============================] - 193s 751ms/step - loss: 1.2875 - accuracy: 0.5379 - val_loss: 1.2157 - val_accuracy: 0.5685\n"
     ]
    },
    {
     "data": {
      "text/plain": [
       "<keras.callbacks.History at 0x23c76a6ad30>"
      ]
     },
     "execution_count": 13,
     "metadata": {},
     "output_type": "execute_result"
    }
   ],
   "source": [
    "cnn.fit(x = training_set, validation_data = test_set, epochs=10, verbose=1)"
   ]
  },
  {
   "cell_type": "code",
   "execution_count": 22,
   "id": "fa3a0a66",
   "metadata": {},
   "outputs": [],
   "source": [
    "cnn.save('skin_cancer_model_low_accuracy.h5')  # or .keras"
   ]
  },
  {
   "cell_type": "code",
   "execution_count": 21,
   "id": "b3028c33",
   "metadata": {},
   "outputs": [
    {
     "name": "stdout",
     "output_type": "stream",
     "text": [
      "1/1 [==============================] - 0s 42ms/step\n",
      "Predicted class: Vascular Lesion\n"
     ]
    }
   ],
   "source": [
    "import numpy as np\n",
    "from tensorflow.keras.utils import load_img, img_to_array  # ✅ Modern import\n",
    "\n",
    "# Load and preprocess the image\n",
    "test_image = load_img('Skin Cancer Dataset/single_prediction/5.jpg', target_size=(64, 64))\n",
    "test_image = img_to_array(test_image)\n",
    "test_image = np.expand_dims(test_image, axis=0)\n",
    "\n",
    "# Predict using the CNN model\n",
    "result = cnn.predict(test_image)\n",
    "\n",
    "# Define class labels in the same order as training_set.class_indices\n",
    "class_labels = [\n",
    "    \"Actinic Keratosis\",\n",
    "    \"Basal Cell Carcinoma\",\n",
    "    \"Dermatofibroma\",\n",
    "    \"Melanoma\",\n",
    "    \"Nevus\",\n",
    "    \"Pigmented Benign Keratosis\",\n",
    "    \"Seborrheic Keratosis\",\n",
    "    \"Squamous Cell Carcinoma\",\n",
    "    \"Vascular Lesion\"\n",
    "]\n",
    "\n",
    "# Get the predicted class index\n",
    "predicted_index = np.argmax(result[0])\n",
    "prediction = class_labels[predicted_index]\n",
    "\n",
    "print(\"Predicted class:\", prediction)\n"
   ]
  }
 ],
 "metadata": {
  "kernelspec": {
   "display_name": "TF",
   "language": "python",
   "name": "python3"
  },
  "language_info": {
   "codemirror_mode": {
    "name": "ipython",
    "version": 3
   },
   "file_extension": ".py",
   "mimetype": "text/x-python",
   "name": "python",
   "nbconvert_exporter": "python",
   "pygments_lexer": "ipython3",
   "version": "3.9.18"
  }
 },
 "nbformat": 4,
 "nbformat_minor": 5
}
